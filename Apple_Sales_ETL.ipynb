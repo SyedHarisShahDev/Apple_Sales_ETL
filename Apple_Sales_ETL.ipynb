{
 "cells": [
  {
   "cell_type": "code",
   "execution_count": null,
   "id": "f03d1e91",
   "metadata": {},
   "outputs": [],
   "source": [
    "%md\n",
    "# Extract"
   ]
  },
  {
   "cell_type": "code",
   "execution_count": null,
   "id": "b2b340bf",
   "metadata": {
    "lines_to_next_cell": 2
   },
   "outputs": [],
   "source": [
    "df = spark.read.table(\"default.apple_sales_2024_dataset\")\n",
    "display(df)"
   ]
  },
  {
   "cell_type": "code",
   "execution_count": null,
   "id": "2e295348",
   "metadata": {
    "lines_to_next_cell": 2
   },
   "outputs": [],
   "source": [
    "df.printSchema()"
   ]
  },
  {
   "cell_type": "code",
   "execution_count": null,
   "id": "d713a7e3",
   "metadata": {
    "lines_to_next_cell": 2
   },
   "outputs": [],
   "source": [
    "df.describe().show()"
   ]
  },
  {
   "cell_type": "code",
   "execution_count": null,
   "id": "9fb52e21-4c88-4575-b952-c7fa8eecfa1d",
   "metadata": {},
   "outputs": [],
   "source": [
    "%md\n",
    "# Transform"
   ]
  },
  {
   "cell_type": "code",
   "execution_count": null,
   "id": "33c9dfb9",
   "metadata": {},
   "outputs": [],
   "source": [
    "from pyspark.sql.functions import col, sum"
   ]
  },
  {
   "cell_type": "code",
   "execution_count": null,
   "id": "bb11ca21",
   "metadata": {
    "lines_to_next_cell": 2
   },
   "outputs": [],
   "source": [
    "df_nulls = df.select([sum(col(c).isNull().cast(\"int\")).alias(c) for c in df.columns])"
   ]
  },
  {
   "cell_type": "code",
   "execution_count": null,
   "id": "80e6af87",
   "metadata": {
    "lines_to_next_cell": 2
   },
   "outputs": [],
   "source": [
    "print(\"Current column names:\")\n",
    "print(df.columns)"
   ]
  },
  {
   "cell_type": "code",
   "execution_count": null,
   "id": "d092220a",
   "metadata": {},
   "outputs": [],
   "source": [
    "display(df_nulls)"
   ]
  },
  {
   "cell_type": "code",
   "execution_count": null,
   "id": "3789200c",
   "metadata": {},
   "outputs": [],
   "source": [
    "df_duplicates = df.distinct()"
   ]
  },
  {
   "cell_type": "code",
   "execution_count": null,
   "id": "59cb2882",
   "metadata": {},
   "outputs": [],
   "source": [
    "print(f\"Number of rows before removing duplicates: {df.count()}\")\n",
    "print(f\"Number of rows after removing duplicates: {df_duplicates.count()}\")"
   ]
  },
  {
   "cell_type": "code",
   "execution_count": null,
   "id": "b99305fa",
   "metadata": {},
   "outputs": [],
   "source": [
    "display(df_duplicates)"
   ]
  },
  {
   "cell_type": "code",
   "execution_count": null,
   "id": "d9a150b4",
   "metadata": {
    "lines_to_next_cell": 2
   },
   "outputs": [],
   "source": [
    "df_renamed = df.withColumnRenamed(\"State\", \"state\") \\\n",
    "               .withColumnRenamed(\"Region\", \"region\") \\\n",
    "               .withColumnRenamed(\"iPhone Sales (in million units)\", \"iphone_sales_million_units\") \\\n",
    "               .withColumnRenamed(\"iPad Sales (in million units)\", \"ipad_sales_million_units\") \\\n",
    "               .withColumnRenamed(\"Mac Sales (in million units)\", \"mac_sales_million_units\") \\\n",
    "               .withColumnRenamed(\"Wearables (in million units)\", \"wearables_sales_million_units\") \\\n",
    "               .withColumnRenamed(\"Services Revenue (in billion $)\", \"services_revenue_billion\") \\\n",
    "               .withColumnRenamed(\"Total_Sales (in Million Units)\", \"total_sales_million_units\")"
   ]
  },
  {
   "cell_type": "code",
   "execution_count": null,
   "id": "6fc84081",
   "metadata": {},
   "outputs": [],
   "source": [
    "display(df_renamed)"
   ]
  },
  {
   "cell_type": "code",
   "execution_count": null,
   "id": "61892b79",
   "metadata": {},
   "outputs": [],
   "source": [
    "print(\"Updated column names:\")\n",
    "print(df_renamed.columns)"
   ]
  },
  {
   "cell_type": "code",
   "execution_count": null,
   "id": "b1f6b91c",
   "metadata": {
    "lines_to_next_cell": 2
   },
   "outputs": [],
   "source": [
    "df.printSchema()"
   ]
  },
  {
   "cell_type": "code",
   "execution_count": null,
   "id": "06a59273",
   "metadata": {},
   "outputs": [],
   "source": [
    "total_rows_after_aggregation = df_aggregated.count()\n",
    "print(f\"Total number of rows after aggregation: {total_rows_after_aggregation}\")"
   ]
  },
  {
   "cell_type": "code",
   "execution_count": null,
   "id": "f94276cc",
   "metadata": {},
   "outputs": [],
   "source": [
    "from pyspark.sql.functions import sum"
   ]
  },
  {
   "cell_type": "code",
   "execution_count": null,
   "id": "c1658bc4",
   "metadata": {
    "lines_to_next_cell": 2
   },
   "outputs": [],
   "source": [
    "df_aggregated = df.groupBy(\"State\", \"Region\").agg(\n",
    "    sum(\"iPhone Sales (in million units)\").alias(\"Total_iPhone_Sales (in million units)\"),\n",
    "    sum(\"iPad Sales (in million units)\").alias(\"Total_iPad_Sales (in million units)\"),\n",
    "    sum(\"Mac Sales (in million units)\").alias(\"Total_Mac_Sales (in million units)\"),\n",
    "    sum(\"Wearables (in million units)\").alias(\"Total_Wearables_Sales (in million units)\"),\n",
    "    sum(\"Services Revenue (in billion $)\").alias(\"Total_Services_Revenue (in billion $)\"),\n",
    "    sum(\"Total_Sales (in Million Units)\").alias(\"Total_Sales (in million units)\")\n",
    ")"
   ]
  },
  {
   "cell_type": "code",
   "execution_count": null,
   "id": "8ffe5fe9",
   "metadata": {},
   "outputs": [],
   "source": [
    "display(df_aggregated)"
   ]
  },
  {
   "cell_type": "code",
   "execution_count": null,
   "id": "6e78c160",
   "metadata": {},
   "outputs": [],
   "source": [
    "df_aggregated = df_aggregated.select(\n",
    "    \"State\",\n",
    "    \"Region\",\n",
    "    \"Total_iPhone_Sales (in million units)\",\n",
    "    \"Total_iPad_Sales (in million units)\",\n",
    "    \"Total_Mac_Sales (in million units)\",\n",
    "    \"Total_Wearables_Sales (in million units)\",\n",
    "    \"Total_Sales (in million units)\",\n",
    "    \"Total_Services_Revenue (in billion $)\"\n",
    ")"
   ]
  },
  {
   "cell_type": "code",
   "execution_count": null,
   "id": "7e162d47",
   "metadata": {},
   "outputs": [],
   "source": [
    "display(df_aggregated)"
   ]
  },
  {
   "cell_type": "code",
   "execution_count": null,
   "id": "c1e3f2f3",
   "metadata": {
    "lines_to_next_cell": 2
   },
   "outputs": [],
   "source": [
    "df_aggregated.columns"
   ]
  },
  {
   "cell_type": "code",
   "execution_count": null,
   "id": "d8dcd808",
   "metadata": {
    "lines_to_next_cell": 2
   },
   "outputs": [],
   "source": [
    "new_df = df_aggregated"
   ]
  },
  {
   "cell_type": "code",
   "execution_count": null,
   "id": "39208871",
   "metadata": {},
   "outputs": [],
   "source": [
    "display(new_df)"
   ]
  },
  {
   "cell_type": "code",
   "execution_count": null,
   "id": "9d13a572",
   "metadata": {},
   "outputs": [],
   "source": [
    "display(new_df)"
   ]
  },
  {
   "cell_type": "code",
   "execution_count": null,
   "id": "df8c6657",
   "metadata": {},
   "outputs": [],
   "source": [
    "from pyspark.sql.functions import round"
   ]
  },
  {
   "cell_type": "code",
   "execution_count": null,
   "id": "86d970d5",
   "metadata": {},
   "outputs": [],
   "source": [
    "rounded_new_df = new_df.withColumn(\"Total_iPhone_Sales (in million units)\", round(new_df[\"Total_iPhone_Sales (in million units)\"], 2)) \\\n",
    "                       .withColumn(\"Total_iPad_Sales (in million units)\", round(new_df[\"Total_iPad_Sales (in million units)\"], 2)) \\\n",
    "                       .withColumn(\"Total_Mac_Sales (in million units)\", round(new_df[\"Total_Mac_Sales (in million units)\"], 2)) \\\n",
    "                       .withColumn(\"Total_Wearables_Sales (in million units)\", round(new_df[\"Total_Wearables_Sales (in million units)\"], 2)) \\\n",
    "                       .withColumn(\"Total_Sales (in million units)\", round(new_df[\"Total_Sales (in million units)\"], 2)) \\\n",
    "                       .withColumn(\"Total_Services_Revenue (in billion $)\", round(new_df[\"Total_Services_Revenue (in billion $)\"], 2))"
   ]
  },
  {
   "cell_type": "code",
   "execution_count": null,
   "id": "aeaa9859",
   "metadata": {
    "lines_to_next_cell": 2
   },
   "outputs": [],
   "source": [
    "display(rounded_new_df)"
   ]
  },
  {
   "cell_type": "code",
   "execution_count": null,
   "id": "f299efee",
   "metadata": {
    "lines_to_next_cell": 2
   },
   "outputs": [],
   "source": [
    "final_df = rounded_new_df\n",
    "final_df.show()"
   ]
  },
  {
   "cell_type": "code",
   "execution_count": null,
   "id": "f245cbf6",
   "metadata": {},
   "outputs": [],
   "source": [
    "display(final_df)"
   ]
  },
  {
   "cell_type": "code",
   "execution_count": null,
   "id": "01737a1e",
   "metadata": {},
   "outputs": [],
   "source": [
    "%md\n",
    "# Load"
   ]
  },
  {
   "cell_type": "code",
   "execution_count": null,
   "id": "475f67b1",
   "metadata": {
    "lines_to_next_cell": 2
   },
   "outputs": [],
   "source": [
    "final_df.write.format(\"delta\") \\\n",
    "    .option(\"overwriteSchema\", \"true\") \\\n",
    "    .mode(\"overwrite\") \\\n",
    "    .saveAsTable(\"apple_sales_2024_dataset\")"
   ]
  },
  {
   "cell_type": "code",
   "execution_count": null,
   "id": "5aa1cabb",
   "metadata": {
    "lines_to_next_cell": 2
   },
   "outputs": [],
   "source": [
    "spark.sql(\"SELECT * FROM apple_sales_2024_dataset\").display()"
   ]
  },
  {
   "cell_type": "code",
   "execution_count": null,
   "id": "bf7cd2bd",
   "metadata": {},
   "outputs": [],
   "source": [
    "%md\n",
    "#Queries"
   ]
  },
  {
   "cell_type": "code",
   "execution_count": null,
   "id": "bc03735e",
   "metadata": {
    "lines_to_next_cell": 2
   },
   "outputs": [],
   "source": [
    "## Total Sales by Region\n",
    "spark.sql(\"\"\"\n",
    "    SELECT Region, SUM(`Total_Sales (in million units)`) AS total_revenue\n",
    "    FROM apple_sales_2024_dataset\n",
    "    GROUP BY Region\n",
    "    ORDER BY total_revenue DESC\n",
    "\"\"\").display()"
   ]
  },
  {
   "cell_type": "code",
   "execution_count": null,
   "id": "a659a0c9",
   "metadata": {
    "lines_to_next_cell": 2
   },
   "outputs": [],
   "source": [
    "## Top 5 States by Sales\n",
    "spark.sql(\"\"\"\n",
    "    SELECT State, SUM(`Total_Sales (in million units)`) AS total_revenue\n",
    "    FROM apple_sales_2024_dataset\n",
    "    GROUP BY State\n",
    "    ORDER BY total_revenue DESC\n",
    "    LIMIT 5\n",
    "\"\"\").display()"
   ]
  },
  {
   "cell_type": "code",
   "execution_count": null,
   "id": "89da7f0e",
   "metadata": {},
   "outputs": [],
   "source": [
    "## Most Sold Apple Product\n",
    "spark.sql(\"\"\"\n",
    "    SELECT 'iPhone' AS Product, ROUND(SUM(`Total_iPhone_Sales (in million units)`), 2) AS Total_Units_Sold FROM apple_sales_2024_dataset\n",
    "    UNION ALL\n",
    "    SELECT 'iPad', ROUND(SUM(`Total_iPad_Sales (in million units)`), 2) FROM apple_sales_2024_dataset\n",
    "    UNION ALL\n",
    "    SELECT 'Mac', ROUND(SUM(`Total_Mac_Sales (in million units)`), 2) FROM apple_sales_2024_dataset\n",
    "    UNION ALL\n",
    "    SELECT 'Wearables', ROUND(SUM(`Total_Wearables_Sales (in million units)`), 2) FROM apple_sales_2024_dataset\n",
    "    ORDER BY Total_Units_Sold DESC\n",
    "\"\"\").display()"
   ]
  },
  {
   "cell_type": "code",
   "execution_count": null,
   "id": "c61bcb71",
   "metadata": {},
   "outputs": [],
   "source": [
    "## Percentage Contribution of Each Product to Total Sales\n",
    "spark.sql(\"\"\"\n",
    "    WITH TotalSales AS (\n",
    "        SELECT \n",
    "            SUM(`Total_iPhone_Sales (in million units)`) AS iPhone_Sales,\n",
    "            SUM(`Total_iPad_Sales (in million units)`) AS iPad_Sales,\n",
    "            SUM(`Total_Mac_Sales (in million units)`) AS Mac_Sales,\n",
    "            SUM(`Total_Wearables_Sales (in million units)`) AS Wearables_Sales\n",
    "        FROM apple_sales_2024_dataset\n",
    "    )\n",
    "    SELECT \n",
    "        'iPhone' AS Product, \n",
    "        ROUND((iPhone_Sales / (iPhone_Sales + iPad_Sales + Mac_Sales + Wearables_Sales)) * 100, 2) AS Percentage_Contribution\n",
    "    FROM TotalSales\n",
    "    UNION ALL\n",
    "    SELECT \n",
    "        'iPad', \n",
    "        ROUND((iPad_Sales / (iPhone_Sales + iPad_Sales + Mac_Sales + Wearables_Sales)) * 100, 2) \n",
    "    FROM TotalSales\n",
    "    UNION ALL\n",
    "    SELECT \n",
    "        'Mac', \n",
    "        ROUND((Mac_Sales / (iPhone_Sales + iPad_Sales + Mac_Sales + Wearables_Sales)) * 100, 2) \n",
    "    FROM TotalSales\n",
    "    UNION ALL\n",
    "    SELECT \n",
    "        'Wearables', \n",
    "        ROUND((Wearables_Sales / (iPhone_Sales + iPad_Sales + Mac_Sales + Wearables_Sales)) * 100, 2) \n",
    "    FROM TotalSales\n",
    "    ORDER BY Percentage_Contribution DESC\n",
    "\"\"\").display()"
   ]
  },
  {
   "cell_type": "code",
   "execution_count": null,
   "id": "e3ff2c37",
   "metadata": {},
   "outputs": [],
   "source": [
    "## Percentage Contribution of Each Region to Total Sales\n",
    "spark.sql(\"\"\"\n",
    "    SELECT Region,\n",
    "           SUM(`Total_Sales (in million units)`) AS Total_Sales,\n",
    "           ROUND(100 * SUM(`Total_Sales (in million units)`) / \n",
    "           (SELECT SUM(`Total_Sales (in million units)`) FROM apple_sales_2024_dataset), 2) AS Sales_Percentage\n",
    "    FROM apple_sales_2024_dataset\n",
    "    GROUP BY Region\n",
    "    ORDER BY Sales_Percentage DESC\n",
    "\"\"\").display()"
   ]
  }
 ],
 "metadata": {
  "jupytext": {
   "cell_metadata_filter": "-all",
   "main_language": "python",
   "notebook_metadata_filter": "-all"
  },
  "kernelspec": {
   "display_name": "Python 3 (ipykernel)",
   "language": "python",
   "name": "python3"
  },
  "language_info": {
   "codemirror_mode": {
    "name": "ipython",
    "version": 3
   },
   "file_extension": ".py",
   "mimetype": "text/x-python",
   "name": "python",
   "nbconvert_exporter": "python",
   "pygments_lexer": "ipython3",
   "version": "3.13.0"
  }
 },
 "nbformat": 4,
 "nbformat_minor": 5
}
